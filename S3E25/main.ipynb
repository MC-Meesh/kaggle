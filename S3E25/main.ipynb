{
 "cells": [
  {
   "cell_type": "markdown",
   "metadata": {},
   "source": [
    "### [Regression with a Mohs Hardness Dataset (S3E25)](https://www.kaggle.com/competitions/playground-series-s3e23)\n",
    "Using regression to predict the Mohs hardness of a mineral, given its properties."
   ]
  },
  {
   "cell_type": "markdown",
   "metadata": {},
   "source": [
    "### Imports"
   ]
  },
  {
   "cell_type": "code",
   "execution_count": 47,
   "metadata": {},
   "outputs": [],
   "source": [
    "# Basic data manipulation\n",
    "import numpy as np\n",
    "import pandas as pd\n",
    "\n",
    "# Visualization libraries\n",
    "import matplotlib.pyplot as plt\n",
    "import seaborn as sns\n",
    "\n",
    "# Machine learning models\n",
    "from lightgbm import LGBMRegressor\n",
    "from xgboost import XGBRegressor\n",
    "from sklearn.ensemble import RandomForestRegressor\n",
    "\n",
    "# Model selection and evaluation tools\n",
    "from sklearn.model_selection import train_test_split, RandomizedSearchCV\n",
    "from sklearn.metrics import median_absolute_error\n",
    "\n",
    "# Statistical tools\n",
    "from scipy.stats import randint\n"
   ]
  },
  {
   "cell_type": "markdown",
   "metadata": {},
   "source": [
    "### Data Import and Exploratory Data Analysis (EDA)"
   ]
  },
  {
   "cell_type": "code",
   "execution_count": 48,
   "metadata": {},
   "outputs": [],
   "source": [
    "train = pd.read_csv('data/train.csv') # read train data from csv file (note that this is stored locally, in kaggle you will use the path '../input/train.csv')\n",
    "train = train.drop(['id'], axis=1) # drop id column, as it is not needed for training"
   ]
  },
  {
   "cell_type": "code",
   "execution_count": 49,
   "metadata": {},
   "outputs": [
    {
     "data": {
      "text/plain": [
       "allelectrons_Total       0\n",
       "density_Total            0\n",
       "allelectrons_Average     0\n",
       "val_e_Average            0\n",
       "atomicweight_Average     0\n",
       "ionenergy_Average        0\n",
       "el_neg_chi_Average       0\n",
       "R_vdw_element_Average    0\n",
       "R_cov_element_Average    0\n",
       "zaratio_Average          0\n",
       "density_Average          0\n",
       "Hardness                 0\n",
       "dtype: int64"
      ]
     },
     "execution_count": 49,
     "metadata": {},
     "output_type": "execute_result"
    }
   ],
   "source": [
    "train.isna().sum() # check for missing values"
   ]
  },
  {
   "cell_type": "code",
   "execution_count": 50,
   "metadata": {},
   "outputs": [
    {
     "data": {
      "text/html": [
       "<div>\n",
       "<style scoped>\n",
       "    .dataframe tbody tr th:only-of-type {\n",
       "        vertical-align: middle;\n",
       "    }\n",
       "\n",
       "    .dataframe tbody tr th {\n",
       "        vertical-align: top;\n",
       "    }\n",
       "\n",
       "    .dataframe thead th {\n",
       "        text-align: right;\n",
       "    }\n",
       "</style>\n",
       "<table border=\"1\" class=\"dataframe\">\n",
       "  <thead>\n",
       "    <tr style=\"text-align: right;\">\n",
       "      <th></th>\n",
       "      <th>allelectrons_Total</th>\n",
       "      <th>density_Total</th>\n",
       "      <th>allelectrons_Average</th>\n",
       "      <th>val_e_Average</th>\n",
       "      <th>atomicweight_Average</th>\n",
       "      <th>ionenergy_Average</th>\n",
       "      <th>el_neg_chi_Average</th>\n",
       "      <th>R_vdw_element_Average</th>\n",
       "      <th>R_cov_element_Average</th>\n",
       "      <th>zaratio_Average</th>\n",
       "      <th>density_Average</th>\n",
       "      <th>Hardness</th>\n",
       "    </tr>\n",
       "  </thead>\n",
       "  <tbody>\n",
       "    <tr>\n",
       "      <th>count</th>\n",
       "      <td>10407.000000</td>\n",
       "      <td>10407.000000</td>\n",
       "      <td>10407.000000</td>\n",
       "      <td>10407.000000</td>\n",
       "      <td>10407.000000</td>\n",
       "      <td>10407.000000</td>\n",
       "      <td>10407.000000</td>\n",
       "      <td>10407.000000</td>\n",
       "      <td>10407.000000</td>\n",
       "      <td>10407.000000</td>\n",
       "      <td>10407.000000</td>\n",
       "      <td>10407.000000</td>\n",
       "    </tr>\n",
       "    <tr>\n",
       "      <th>mean</th>\n",
       "      <td>128.053516</td>\n",
       "      <td>14.491342</td>\n",
       "      <td>17.033222</td>\n",
       "      <td>4.546789</td>\n",
       "      <td>37.507703</td>\n",
       "      <td>10.938308</td>\n",
       "      <td>2.607662</td>\n",
       "      <td>1.731330</td>\n",
       "      <td>0.944132</td>\n",
       "      <td>0.493349</td>\n",
       "      <td>2.132984</td>\n",
       "      <td>4.647126</td>\n",
       "    </tr>\n",
       "    <tr>\n",
       "      <th>std</th>\n",
       "      <td>224.123776</td>\n",
       "      <td>15.972877</td>\n",
       "      <td>10.468734</td>\n",
       "      <td>0.690864</td>\n",
       "      <td>26.012313</td>\n",
       "      <td>1.408276</td>\n",
       "      <td>0.334906</td>\n",
       "      <td>0.192481</td>\n",
       "      <td>0.180017</td>\n",
       "      <td>0.063080</td>\n",
       "      <td>1.936656</td>\n",
       "      <td>1.680525</td>\n",
       "    </tr>\n",
       "    <tr>\n",
       "      <th>min</th>\n",
       "      <td>0.000000</td>\n",
       "      <td>0.000000</td>\n",
       "      <td>0.000000</td>\n",
       "      <td>0.000000</td>\n",
       "      <td>0.000000</td>\n",
       "      <td>0.000000</td>\n",
       "      <td>0.000000</td>\n",
       "      <td>0.000000</td>\n",
       "      <td>0.000000</td>\n",
       "      <td>0.000000</td>\n",
       "      <td>0.000000</td>\n",
       "      <td>1.000000</td>\n",
       "    </tr>\n",
       "    <tr>\n",
       "      <th>25%</th>\n",
       "      <td>68.000000</td>\n",
       "      <td>7.558488</td>\n",
       "      <td>10.000000</td>\n",
       "      <td>4.000000</td>\n",
       "      <td>20.298893</td>\n",
       "      <td>10.590660</td>\n",
       "      <td>2.530000</td>\n",
       "      <td>1.672500</td>\n",
       "      <td>0.864000</td>\n",
       "      <td>0.476196</td>\n",
       "      <td>0.814800</td>\n",
       "      <td>3.000000</td>\n",
       "    </tr>\n",
       "    <tr>\n",
       "      <th>50%</th>\n",
       "      <td>100.000000</td>\n",
       "      <td>10.650000</td>\n",
       "      <td>12.600000</td>\n",
       "      <td>4.714286</td>\n",
       "      <td>26.203827</td>\n",
       "      <td>11.202760</td>\n",
       "      <td>2.706000</td>\n",
       "      <td>1.732727</td>\n",
       "      <td>0.915556</td>\n",
       "      <td>0.488550</td>\n",
       "      <td>1.351550</td>\n",
       "      <td>5.500000</td>\n",
       "    </tr>\n",
       "    <tr>\n",
       "      <th>75%</th>\n",
       "      <td>131.000000</td>\n",
       "      <td>16.676996</td>\n",
       "      <td>22.000000</td>\n",
       "      <td>4.800000</td>\n",
       "      <td>48.719500</td>\n",
       "      <td>11.670725</td>\n",
       "      <td>2.805000</td>\n",
       "      <td>1.800000</td>\n",
       "      <td>0.981667</td>\n",
       "      <td>0.496070</td>\n",
       "      <td>2.741550</td>\n",
       "      <td>6.000000</td>\n",
       "    </tr>\n",
       "    <tr>\n",
       "      <th>max</th>\n",
       "      <td>15300.000000</td>\n",
       "      <td>643.093804</td>\n",
       "      <td>67.000000</td>\n",
       "      <td>6.000000</td>\n",
       "      <td>167.400000</td>\n",
       "      <td>15.245810</td>\n",
       "      <td>3.443000</td>\n",
       "      <td>2.250000</td>\n",
       "      <td>1.615840</td>\n",
       "      <td>0.825990</td>\n",
       "      <td>10.970000</td>\n",
       "      <td>10.000000</td>\n",
       "    </tr>\n",
       "  </tbody>\n",
       "</table>\n",
       "</div>"
      ],
      "text/plain": [
       "       allelectrons_Total  density_Total  allelectrons_Average  val_e_Average  \\\n",
       "count        10407.000000   10407.000000          10407.000000   10407.000000   \n",
       "mean           128.053516      14.491342             17.033222       4.546789   \n",
       "std            224.123776      15.972877             10.468734       0.690864   \n",
       "min              0.000000       0.000000              0.000000       0.000000   \n",
       "25%             68.000000       7.558488             10.000000       4.000000   \n",
       "50%            100.000000      10.650000             12.600000       4.714286   \n",
       "75%            131.000000      16.676996             22.000000       4.800000   \n",
       "max          15300.000000     643.093804             67.000000       6.000000   \n",
       "\n",
       "       atomicweight_Average  ionenergy_Average  el_neg_chi_Average  \\\n",
       "count          10407.000000       10407.000000        10407.000000   \n",
       "mean              37.507703          10.938308            2.607662   \n",
       "std               26.012313           1.408276            0.334906   \n",
       "min                0.000000           0.000000            0.000000   \n",
       "25%               20.298893          10.590660            2.530000   \n",
       "50%               26.203827          11.202760            2.706000   \n",
       "75%               48.719500          11.670725            2.805000   \n",
       "max              167.400000          15.245810            3.443000   \n",
       "\n",
       "       R_vdw_element_Average  R_cov_element_Average  zaratio_Average  \\\n",
       "count           10407.000000           10407.000000     10407.000000   \n",
       "mean                1.731330               0.944132         0.493349   \n",
       "std                 0.192481               0.180017         0.063080   \n",
       "min                 0.000000               0.000000         0.000000   \n",
       "25%                 1.672500               0.864000         0.476196   \n",
       "50%                 1.732727               0.915556         0.488550   \n",
       "75%                 1.800000               0.981667         0.496070   \n",
       "max                 2.250000               1.615840         0.825990   \n",
       "\n",
       "       density_Average      Hardness  \n",
       "count     10407.000000  10407.000000  \n",
       "mean          2.132984      4.647126  \n",
       "std           1.936656      1.680525  \n",
       "min           0.000000      1.000000  \n",
       "25%           0.814800      3.000000  \n",
       "50%           1.351550      5.500000  \n",
       "75%           2.741550      6.000000  \n",
       "max          10.970000     10.000000  "
      ]
     },
     "execution_count": 50,
     "metadata": {},
     "output_type": "execute_result"
    }
   ],
   "source": [
    "train.describe() # get summary statistics for each column, useful for detecting outliers"
   ]
  },
  {
   "cell_type": "markdown",
   "metadata": {},
   "source": [
    "Now that we know that the training data has no severe outliers or non-numeric values, we can plot the correlation to see how variables influence each other."
   ]
  },
  {
   "cell_type": "code",
   "execution_count": 51,
   "metadata": {},
   "outputs": [
    {
     "data": {
      "text/plain": [
       "<AxesSubplot:>"
      ]
     },
     "execution_count": 51,
     "metadata": {},
     "output_type": "execute_result"
    },
    {
     "data": {
      "image/png": "[encoded data removed]",
      "text/plain": [
       "<Figure size 864x864 with 2 Axes>"
      ]
     },
     "metadata": {
      "needs_background": "light"
     },
     "output_type": "display_data"
    }
   ],
   "source": [
    "\n",
    "# Plotting correlation matrix for each column\n",
    "\n",
    "plt.figure(figsize=(12,12)) # set figure size so annotations are not cut off\n",
    "corr = train.corr() # get correlation matrix\n",
    "mask = np.triu(np.ones_like(corr, dtype=bool), k=1) # create mask to hide upper triangle of plot (as it is a mirror image of the lower triangle)\n",
    "sns.heatmap(corr, mask=mask, annot=True, cmap='coolwarm') # plot correlation matrix with seaborn (sns)"
   ]
  },
  {
   "cell_type": "code",
   "execution_count": 52,
   "metadata": {},
   "outputs": [
    {
     "name": "stdout",
     "output_type": "stream",
     "text": [
      "['allelectrons_Total', 'density_Total', 'allelectrons_Average', 'val_e_Average', 'atomicweight_Average', 'ionenergy_Average', 'el_neg_chi_Average', 'R_vdw_element_Average', 'R_cov_element_Average', 'zaratio_Average', 'density_Average']\n",
      "Hardness\n"
     ]
    }
   ],
   "source": [
    "#Here is a nice way of getting columns for the training data and seperating the target column\n",
    "\n",
    "features = train.columns.to_list()[:-1] # get list of features (all columns except target)\n",
    "target = train.columns.to_list().pop(-1) # get target column\n",
    "\n",
    "#Sanity check\n",
    "print(features)\n",
    "print(target)"
   ]
  },
  {
   "cell_type": "code",
   "execution_count": 53,
   "metadata": {},
   "outputs": [],
   "source": [
    "X = train[features] # define X as all input features\n",
    "y = train[target] # define y as target column ('Hardness')\n",
    "\n",
    "X_train, X_test, y_train, y_test = train_test_split(X, y, test_size=0.2, random_state=42) # split data into training and testing sets to evaluate model performance"
   ]
  },
  {
   "cell_type": "markdown",
   "metadata": {},
   "source": [
    "### Tree-based Regressors\n",
    "\n",
    "For this approach, I am going to use three different tree based regressors (Randomforest, XGB, and LGBM). These are briefly explained at the end of the notebook.\n",
    "\n",
    "The regressor models are instantiated in the `regressors` dict. The respective range of hyperparameters is defined in the param_map, including a randomly generated number of estimators which scikit learn reads as `n_estimators` (randomized to reduce training time instead of iterating over every int in this range). Other hyperparams are also defined for the respective models."
   ]
  },
  {
   "cell_type": "code",
   "execution_count": 54,
   "metadata": {},
   "outputs": [],
   "source": [
    "regressors = {\n",
    "    \"RandomForest\": RandomForestRegressor(),\n",
    "    \"XGB\": XGBRegressor(),\n",
    "    \"LGBM\": LGBMRegressor(),\n",
    "}\n",
    "\n",
    "param_map = {\n",
    "    \"RandomForest\": {\n",
    "        'n_estimators': randint(50, 200),\n",
    "        'max_features': ['sqrt', 'log2'],\n",
    "        'max_depth': randint(1, 10),\n",
    "        'min_samples_split': randint(2, 10),\n",
    "        'min_samples_leaf': randint(1, 10),\n",
    "        'bootstrap': [True, False]\n",
    "    },\n",
    "    \"XGB\": {\n",
    "        'n_estimators': randint(50, 200),\n",
    "        'learning_rate': [0.01, 0.05, 0.1, 0.5, 1],\n",
    "        'max_depth': randint(1, 10),\n",
    "        'subsample': [0.5, 0.7, 1],\n",
    "        'colsample_bytree': [0.5, 0.7, 1],\n",
    "    },\n",
    "    \"LGBM\": {\n",
    "        'n_estimators': randint(50, 200),\n",
    "        'learning_rate': [0.01, 0.05, 0.1, 0.5, 1],\n",
    "        'max_depth': randint(1, 10),\n",
    "        'subsample': [0.5, 0.7, 1],\n",
    "        'colsample_bytree': [0.5, 0.7, 1],\n",
    "    },\n",
    "}\n"
   ]
  },
  {
   "cell_type": "markdown",
   "metadata": {},
   "source": [
    "Now that we have some models, we need to train them. To do this, we implement a loop over our set of regressors. For each regressor, if it has predefined hyperparameters in `param_map`, we use RandomizedSearchCV to conduct a hyperparameter search. \n",
    "\n",
    "This method performs a randomized search over hyperparameters, using cross-validation with `cv_folds` folds and `n_iter_search` iterations, and aims to minimize the negative mean absolute error (MAE). \n",
    "\n",
    "After the search, we fit the best model found to our training data. If the regressor doesn't require hyperparameter tuning, we fit it directly to the training data. Once each model is trained, we make predictions on the test set (created using sklearn train_test_split method) and compute the MAE for performance evaluation. The results are stored, and finally, we sort and display the regressors based on their MAE, giving us a clear view of which models performed best."
   ]
  },
  {
   "cell_type": "code",
   "execution_count": 55,
   "metadata": {},
   "outputs": [
    {
     "name": "stdout",
     "output_type": "stream",
     "text": [
      "Fitting 5 folds for each of 10 candidates, totalling 50 fits\n"
     ]
    },
    {
     "name": "stdout",
     "output_type": "stream",
     "text": [
      "RandomForest MAE: 0.6844\n",
      "Fitting 5 folds for each of 10 candidates, totalling 50 fits\n",
      "XGB MAE: 0.6896\n",
      "Fitting 5 folds for each of 10 candidates, totalling 50 fits\n",
      "LGBM MAE: 0.6586\n",
      "\n",
      "Regressors ranked by MAE:\n",
      "LGBM: 0.6586\n",
      "RandomForest: 0.6844\n",
      "XGB: 0.6896\n"
     ]
    }
   ],
   "source": [
    "results = {}\n",
    "best_models = {}\n",
    "best_params = {}\n",
    "\n",
    "n_iter_search = 10 \n",
    "cv_folds = 5        \n",
    "\n",
    "for name, reg in regressors.items():\n",
    "    if name in param_map:\n",
    "        random_search = RandomizedSearchCV(reg, param_distributions=param_map[name],\n",
    "                                           n_iter=n_iter_search, scoring='neg_mean_absolute_error', cv=cv_folds, \n",
    "                                           verbose=1, n_jobs=-1)\n",
    "        random_search.fit(X_train, y_train)\n",
    "        \n",
    "        # Use the best estimator\n",
    "        best_reg = random_search.best_estimator_\n",
    "        best_params[name] = random_search.best_params_\n",
    "    else:\n",
    "        best_reg = reg\n",
    "        best_reg.fit(X_train, y_train)\n",
    "    \n",
    "    # Predict values\n",
    "    y_pred = best_reg.predict(X_test)\n",
    "    \n",
    "    # Compute MAE\n",
    "    mae = median_absolute_error(y_test, y_pred)\n",
    "    \n",
    "    results[name] = mae\n",
    "    best_models[name] = best_reg\n",
    "    print(f\"{name} MAE: {mae:.4f}\")\n",
    "\n",
    "# Sort and display results\n",
    "sorted_results = dict(sorted(results.items(), key=lambda item: item[1]))\n",
    "print(\"\\nRegressors ranked by MAE:\")\n",
    "for name, mae in sorted_results.items():\n",
    "    print(f\"{name}: {mae:.4f}\")"
   ]
  },
  {
   "cell_type": "markdown",
   "metadata": {},
   "source": [
    "As you can see, the LGBM preformed the best. For simplicity we will go with just this model (with the respective hyperparameters saved in the best_models object)."
   ]
  },
  {
   "cell_type": "code",
   "execution_count": 56,
   "metadata": {},
   "outputs": [],
   "source": [
    "test = pd.read_csv('data/test.csv')\n",
    "X_submission = test[features] #create the set of features to pass to the trained model to get the predictions"
   ]
  },
  {
   "cell_type": "code",
   "execution_count": 57,
   "metadata": {},
   "outputs": [],
   "source": [
    "preds = []\n",
    "preds = best_models['LGBM'].predict(X_submission) #get the predictions\n",
    "preds = pd.DataFrame(preds, columns=['target']) #convert the predictions to a dataframe to concatenate with the id column"
   ]
  },
  {
   "cell_type": "code",
   "execution_count": 58,
   "metadata": {},
   "outputs": [],
   "source": [
    "submission = pd.concat([test['id'], preds], axis=1) #concatenate the id and predictions dataframes\n",
    "submission.to_csv('submission.csv', index=False) #create the submission csv file without the index column"
   ]
  },
  {
   "cell_type": "markdown",
   "metadata": {},
   "source": [
    "### Thats it!!\n",
    "\n",
    "After running this last cell, you should have a submission file that you can upload to Kaggle! "
   ]
  },
  {
   "cell_type": "markdown",
   "metadata": {},
   "source": [
    "### *Brief description of the tree based regressors used:*\n",
    "\n",
    "\n",
    "Random Forest: Random Forest is an ensemble learning method, primarily used for classification and regression. It operates by constructing a multitude of decision trees at training time and outputting the mean prediction of the individual trees. Random Forests are known for their simplicity and the fact that they can be used for both classification and regression tasks. They are robust against overfitting, especially in cases where there is a lot of noise in the dataset.\n",
    "\n",
    "XGBoost (Extreme Gradient Boosting): XGBoost is an efficient and scalable implementation of gradient boosting framework. This algorithm has gained popularity due to its speed and performance. It uses gradient boosting framework at its core, which means it constructs new trees that predict the residuals or errors of prior trees combined together and then this process is repeated until a certain number of trees are reached, or no further improvements can be made. It is particularly well-suited for large and complex datasets and has been the algorithm behind many winning solutions in Kaggle competitions.\n",
    "\n",
    "LightGBM (Light Gradient Boosting Machine): LightGBM is another gradient boosting framework that uses tree-based learning algorithms and is designed for distributed and efficient training. What sets LightGBM apart is its ability to handle large amounts of data and speed up the training process. It achieves this through techniques such as Gradient-based One-Side Sampling (GOSS) and Exclusive Feature Bundling (EFB). LightGBM is often preferred when dealing with extremely large datasets and scenarios where computational efficiency is a priority."
   ]
  }
 ],
 "metadata": {
  "kernelspec": {
   "display_name": "Python 3",
   "language": "python",
   "name": "python3"
  },
  "language_info": {
   "codemirror_mode": {
    "name": "ipython",
    "version": 3
   },
   "file_extension": ".py",
   "mimetype": "text/x-python",
   "name": "python",
   "nbconvert_exporter": "python",
   "pygments_lexer": "ipython3",
   "version": "3.9.13"
  }
 },
 "nbformat": 4,
 "nbformat_minor": 2
}
